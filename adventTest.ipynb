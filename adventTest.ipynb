{
 "cells": [
  {
   "cell_type": "code",
   "execution_count": 72,
   "metadata": {},
   "outputs": [],
   "source": [
    "input = open(\"anio2022/input_day_8_1.txt\",'r')\\\n",
    "    .read()\\\n",
    "    .splitlines()"
   ]
  },
  {
   "cell_type": "code",
   "execution_count": 78,
   "metadata": {},
   "outputs": [
    {
     "name": "stdout",
     "output_type": "stream",
     "text": [
      "['3', '0', '3', '7', '3']\n",
      "['2', '5', '5', '1', '2']\n",
      "['6', '5', '3', '3', '2']\n",
      "['3', '3', '5', '4', '9']\n",
      "['3', '5', '3', '9', '0']\n",
      "elemento  1 1     5\n",
      "up  0\n",
      "True\n",
      "elemento  1 2     5\n",
      "up  3\n",
      "True\n",
      "elemento  1 3     1\n",
      "up  7\n",
      "left  5\n",
      "down  3\n",
      "right  2\n",
      "False\n",
      "elemento  2 1     5\n",
      "up  5\n",
      "left  6\n",
      "down  3\n",
      "down  5\n",
      "right  3\n",
      "right  3\n",
      "right  2\n",
      "False\n",
      "elemento  2 2     3\n",
      "up  5\n",
      "left  5\n",
      "down  5\n",
      "right  3\n",
      "False\n",
      "elemento  2 3     3\n",
      "up  1\n",
      "up  7\n",
      "left  3\n",
      "down  4\n",
      "right  2\n",
      "False\n",
      "elemento  3 1     3\n",
      "up  5\n",
      "left  3\n",
      "down  5\n",
      "right  5\n",
      "False\n",
      "elemento  3 2     5\n",
      "up  3\n",
      "up  5\n",
      "left  3\n",
      "left  3\n",
      "down  3\n",
      "right  4\n",
      "right  9\n",
      "False\n",
      "elemento  3 3     4\n",
      "up  3\n",
      "up  1\n",
      "up  7\n",
      "left  5\n",
      "down  9\n",
      "right  9\n",
      "False\n",
      "18\n"
     ]
    }
   ],
   "source": [
    "input = ['30373','25512','65332','33549','35390']\n",
    "\n",
    "side = len(input[0])\n",
    "area = side ** 2\n",
    "input = [list(x) for x in input]\n",
    "\n",
    "for i in input:\n",
    "    print(i)\n",
    "\n",
    "\n",
    "def isVisible(i, j, element, side):\n",
    "    flg = True\n",
    "    for x_pos in sorted(range(i), reverse=True):\n",
    "        print('up ', input[x_pos][j])\n",
    "        if input[x_pos][j] >= element:\n",
    "            flg = False\n",
    "            break\n",
    "    if flg == True:\n",
    "        return flg\n",
    "    \n",
    "    for y_neg in sorted(range(j), reverse=True):\n",
    "        print('left ', input[i][y_neg])\n",
    "        if input[i][y_neg] >= element:\n",
    "            flg = False\n",
    "            break\n",
    "    if flg == True:\n",
    "        return flg\n",
    "\n",
    "    for x_neg in range(i+1, side):\n",
    "        print('down ', input[x_neg][j])\n",
    "        if input[x_neg][j] >= element:\n",
    "            flg = False\n",
    "            break\n",
    "    if flg == True:\n",
    "        return flg\n",
    "    \n",
    "    for y_pos in range(j+1, side):\n",
    "        print('right ', input[i][y_pos])\n",
    "        if input[i][y_pos] >= element:\n",
    "            flg = False\n",
    "            break\n",
    "    \n",
    "    return flg\n",
    "\n",
    "\n",
    "c = 0\n",
    "for i in range(1, side-1):\n",
    "    for j in range(1, side-1):\n",
    "        element = input[i][j]\n",
    "        print('elemento ', i, j, '   ',element)\n",
    "        flg = isVisible(i, j, element, side)\n",
    "        print(flg)\n",
    "        if flg == False:\n",
    "            c += 1\n",
    "\n",
    "print(area - c)"
   ]
  },
  {
   "cell_type": "code",
   "execution_count": 77,
   "metadata": {},
   "outputs": [
    {
     "data": {
      "text/plain": [
       "[4, 3, 2, 1, 0]"
      ]
     },
     "execution_count": 77,
     "metadata": {},
     "output_type": "execute_result"
    }
   ],
   "source": []
  }
 ],
 "metadata": {
  "kernelspec": {
   "display_name": "Python 3.6.8 64-bit",
   "language": "python",
   "name": "python3"
  },
  "language_info": {
   "codemirror_mode": {
    "name": "ipython",
    "version": 3
   },
   "file_extension": ".py",
   "mimetype": "text/x-python",
   "name": "python",
   "nbconvert_exporter": "python",
   "pygments_lexer": "ipython3",
   "version": "3.6.8"
  },
  "orig_nbformat": 4,
  "vscode": {
   "interpreter": {
    "hash": "e6bcd8bd02a6ab2d33156c5283c22455ea81cff4ba89168cb785a62275086405"
   }
  }
 },
 "nbformat": 4,
 "nbformat_minor": 2
}
