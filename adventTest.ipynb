{
 "cells": [
  {
   "cell_type": "code",
   "execution_count": 110,
   "metadata": {},
   "outputs": [],
   "source": [
    "import string\n",
    "\n",
    "lowers = {}\n",
    "uppers = {}\n",
    "\n",
    "value = 1\n",
    "for i in list(string.ascii_lowercase):\n",
    "    lowers[i]=value\n",
    "    value += 1\n",
    "for i in list(string.ascii_uppercase):\n",
    "    uppers[i]=value\n",
    "    value += 1\n",
    "alph_priority = lowers.copy()\n",
    "alph_priority.update(uppers)"
   ]
  },
  {
   "cell_type": "code",
   "execution_count": 183,
   "metadata": {},
   "outputs": [
    {
     "name": "stdout",
     "output_type": "stream",
     "text": [
      "{1: ['Z', 'T', 'F', 'R', 'W', 'J', 'G'], 2: ['G', 'W', 'M'], 3: ['J', 'N', 'H', 'G'], 4: ['J', 'R', 'C', 'N', 'W'], 5: ['W', 'F', 'S', 'B', 'G', 'Q', 'V', 'M'], 6: ['S', 'R', 'T', 'D', 'V', 'W', 'C'], 7: ['H', 'B', 'N', 'C', 'D', 'Z', 'G', 'V'], 8: ['S', 'J', 'N', 'M', 'G', 'C'], 9: ['G', 'P', 'N', 'W', 'C', 'J', 'D', 'L']}\n"
     ]
    }
   ],
   "source": [
    "input = ['                [M]     [V]     [L]', '[G]             [V] [C] [G]     [D]', '[J]             [Q] [W] [Z] [C] [J]', \n",
    "         '[W]         [W] [G] [V] [D] [G] [C]', '[R]     [G] [N] [B] [D] [C] [M] [W]', '[F] [M] [H] [C] [S] [T] [N] [N] [N]', \n",
    "         '[T] [W] [N] [R] [F] [R] [B] [J] [P]', '[Z] [G] [J] [J] [W] [S] [H] [S] [G]', ' 1   2   3   4   5   6   7   8   9 ','']  \n",
    "# input = ['    [D]    ', '[N] [C]    ', '[Z] [M] [P]', ' 1   2   3 ', '',\n",
    "#         'move 1 from 2 to 1', 'move 3 from 1 to 3', 'move 2 from 2 to 1', 'move 1 from 1 to 2'] \n",
    "\n",
    "## We separate the stacks of boxes from the movements\n",
    "for i, v in enumerate(input):\n",
    "    if v == '': break\n",
    "\n",
    "boxOrder = input[:i]\n",
    "moves = input[i+1:]\n",
    "\n",
    "## We clean the lines to obtain lists with which we can work better\n",
    "boxMatriz = []\n",
    "order = []\n",
    "for i in boxOrder:\n",
    "    if '[' in i:\n",
    "        if i[0] == '[':\n",
    "            boxMatriz.append(list(i.replace('    ','_').replace('[','').replace(']','').replace(' ','')))\n",
    "        else:\n",
    "            boxMatriz.append(list(i.replace('    ','_').replace('[','').replace(']','').replace(' ','')))\n",
    "    else:\n",
    "        order = (list(i[1:-1].replace(' ','')))\n",
    "\n",
    "## We create the structure of stacks of boxes\n",
    "stacks = {}\n",
    "for i in order:\n",
    "    stacks[int(i)] = list()\n",
    "\n",
    "## we fill the stacks\n",
    "for row in boxMatriz[::-1]:\n",
    "    for i, v in enumerate(row):\n",
    "        if v == '_': continue\n",
    "        stack = stacks[i+1]\n",
    "        stack.append(v)\n",
    "        stacks[i+1] = stack\n",
    "\n",
    "## We formatting the movements\n",
    "for i in moves:\n",
    "    pass"
   ]
  },
  {
   "cell_type": "code",
   "execution_count": null,
   "metadata": {},
   "outputs": [],
   "source": []
  }
 ],
 "metadata": {
  "kernelspec": {
   "display_name": "Python 3.6.8 64-bit",
   "language": "python",
   "name": "python3"
  },
  "language_info": {
   "codemirror_mode": {
    "name": "ipython",
    "version": 3
   },
   "file_extension": ".py",
   "mimetype": "text/x-python",
   "name": "python",
   "nbconvert_exporter": "python",
   "pygments_lexer": "ipython3",
   "version": "3.6.8"
  },
  "orig_nbformat": 4,
  "vscode": {
   "interpreter": {
    "hash": "e6bcd8bd02a6ab2d33156c5283c22455ea81cff4ba89168cb785a62275086405"
   }
  }
 },
 "nbformat": 4,
 "nbformat_minor": 2
}
