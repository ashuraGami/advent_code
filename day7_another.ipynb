{
 "cells": [
  {
   "cell_type": "code",
   "execution_count": 3,
   "metadata": {},
   "outputs": [
    {
     "name": "stdout",
     "output_type": "stream",
     "text": [
      "defaultdict(<class 'list'>, {'/': ['a', 'b.txt', 'c.dat', 'd'], 'a': ['e', 'f', 'g', 'h.lst'], 'e': ['i'], 'd': ['j', 'd.log', 'd.ext', 'k']}) \n",
      "\n",
      "dict_keys(['/', 'a', 'e', 'd']) \n",
      "\n",
      "{'b.txt': 14848514, 'c.dat': 8504156, 'f': 29116, 'g': 2557, 'h.lst': 62596, 'i': 584, 'j': 4060174, 'd.log': 8033020, 'd.ext': 5626152, 'k': 7214296} \n",
      "\n",
      "dict_keys(['b.txt', 'c.dat', 'f', 'g', 'h.lst', 'i', 'j', 'd.log', 'd.ext', 'k']) \n",
      "\n"
     ]
    }
   ],
   "source": [
    "from collections import defaultdict\n",
    "\n",
    "input = ['$ cd /', '$ ls', 'dir a', '14848514 b.txt', '8504156 c.dat', 'dir d', '$ cd a', '$ ls'\n",
    "        ,'dir e', '29116 f', '2557 g', '62596 h.lst', '$ cd e', '$ ls', '584 i', '$ cd ..', '$ cd ..'\n",
    "        ,'$ cd d', '$ ls', '4060174 j', '8033020 d.log', '5626152 d.ext', '7214296 k']\n",
    "\n",
    "max_size = 100000\n",
    "prefix = \"\"\n",
    "roots = []\n",
    "sizes = {}\n",
    "tree = defaultdict(list)\n",
    "for i in input:\n",
    "    if i[0] == '$': #and i != '$ ls':\n",
    "        if i != '$ ls':\n",
    "            head = i.replace('$ cd ', '')\n",
    "\n",
    "            if i == '$ cd ..': \n",
    "                roots.pop()\n",
    "                prefix = \"\".join(roots)\n",
    "            else:\n",
    "                roots.append(head)\n",
    "                prefix += head\n",
    "                tree[prefix] = []\n",
    "    else:\n",
    "        content = tree[prefix]\n",
    "        content.append(prefix+i.split(' ')[1])\n",
    "        tree[prefix] = content\n",
    "        if i[:3] != 'dir':\n",
    "            sizes[prefix+i.split(' ')[1]] = int(i.split(' ')[0])\n",
    "        \n",
    "print(tree,'\\n')\n",
    "print(tree.keys(),'\\n')\n",
    "print(sizes,'\\n')\n",
    "print(sizes.keys(),'\\n')"
   ]
  },
  {
   "cell_type": "code",
   "execution_count": 4,
   "metadata": {},
   "outputs": [
    {
     "data": {
      "text/plain": [
       "95437"
      ]
     },
     "execution_count": 4,
     "metadata": {},
     "output_type": "execute_result"
    }
   ],
   "source": [
    "result = 0\n",
    "def sizeCalculation(size, head):\n",
    "    global result\n",
    "    if head in sizes.keys():\n",
    "        return sizes[head]\n",
    "    \n",
    "    for i in tree[head]:\n",
    "        size += sizeCalculation(0, i)\n",
    "\n",
    "    if size <= max_size:\n",
    "        result += size\n",
    "    return size\n",
    "\n",
    "sizeCalculation(0, '/')\n",
    "result"
   ]
  }
 ],
 "metadata": {
  "kernelspec": {
   "display_name": "Python 3.6.8 64-bit",
   "language": "python",
   "name": "python3"
  },
  "language_info": {
   "codemirror_mode": {
    "name": "ipython",
    "version": 3
   },
   "file_extension": ".py",
   "mimetype": "text/x-python",
   "name": "python",
   "nbconvert_exporter": "python",
   "pygments_lexer": "ipython3",
   "version": "3.6.8"
  },
  "orig_nbformat": 4,
  "vscode": {
   "interpreter": {
    "hash": "e6bcd8bd02a6ab2d33156c5283c22455ea81cff4ba89168cb785a62275086405"
   }
  }
 },
 "nbformat": 4,
 "nbformat_minor": 2
}
